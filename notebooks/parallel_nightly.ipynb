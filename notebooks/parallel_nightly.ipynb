{
 "cells": [
  {
   "cell_type": "code",
   "execution_count": 29,
   "metadata": {},
   "outputs": [],
   "source": [
    "from __future__ import print_function\n",
    "from ipywidgets import interact, interactive, fixed, interact_manual\n",
    "from IPython.display import display\n",
    "from ipywidgets import Layout, Button, Box\n",
    "from collections import defaultdict\n",
    "import ipywidgets as widgets\n",
    "\n",
    "import json\n",
    "import os, glob\n",
    "import pandas as pd\n",
    "import pandas.io.json as pdjson\n",
    "import seaborn as sns\n",
    "\n",
    "sns.set_style(\"whitegrid\")"
   ]
  },
  {
   "cell_type": "code",
   "execution_count": 30,
   "metadata": {},
   "outputs": [],
   "source": [
    "artifacts_dir = \"/etc/skel/sandmark-nightly/parallel/\""
   ]
  },
  {
   "cell_type": "code",
   "execution_count": 31,
   "metadata": {},
   "outputs": [],
   "source": [
    "bench_files = []\n",
    "\n",
    "artifacts_path = artifacts_dir.split(\"/parallel/\")[0]\n",
    "\n",
    "for root, dirs, files in os.walk(artifacts_dir):\n",
    "    for file in files:\n",
    "        if file.endswith(\"_1.orunchrt.summary.bench\"):\n",
    "            f = root.split(\"/parallel/\")\n",
    "            bench_files.append((os.path.join(root, file)))"
   ]
  },
  {
   "cell_type": "code",
   "execution_count": 32,
   "metadata": {},
   "outputs": [],
   "source": [
    "benches = defaultdict(list)\n",
    "for x in bench_files:\n",
    "    l = x.split(\"/parallel/\")[1]\n",
    "    d = l.split(\"/\")\n",
    "    timestamp    = d[0]\n",
    "    commit       = d[1]\n",
    "    variant      = d[2]\n",
    "    variant_root = d[2].split('_')[0]\n",
    "    variant_stem = d[2].split('_')[1]\n",
    "    value        = variant_root + '+' + commit + '_' + variant_stem\n",
    "    benches[timestamp].append(value)\n",
    "benches = dict(benches)"
   ]
  },
  {
   "cell_type": "code",
   "execution_count": 33,
   "metadata": {},
   "outputs": [],
   "source": [
    "def f(x): return x\n",
    "\n",
    "def disp(benches):\n",
    "    \n",
    "    def select_commit(timestamp):\n",
    "        variantW.options = benches[timestamp]\n",
    "    \n",
    "    def do_nothing(variant):\n",
    "        pass\n",
    "    \n",
    "    timestamp_list = sorted(list(benches.keys()), reverse=True)\n",
    "    timestampW = widgets.Dropdown(options=timestamp_list, description='Timestamp', disabled=False)\n",
    "    timestampD = widgets.interactive(select_commit, timestamp=timestampW)\n",
    "    \n",
    "    variantW = widgets.Dropdown(options=benches[timestampW.value], description='Variant', disabled=False)\n",
    "    variantD = widgets.interactive(do_nothing, variant=variantW)\n",
    "\n",
    "    items_layout = Layout( width='auto' )\n",
    "    \n",
    "    box_layout = Layout(display='flex',\n",
    "                       flex_flow='row wrap',\n",
    "                       align_items='flex-start',\n",
    "                       width='100%')\n",
    "    items = [timestampD, variantD]\n",
    "    box = Box(children=items, layout=box_layout)\n",
    "    display(box)\n",
    "    return (timestampD, variantD)\n",
    "\n",
    "def get_filename(t, v):\n",
    "    timestamp = t.children[0].value\n",
    "    commit_id = v.children[0].value.split('_')[0].split('+')[-1]\n",
    "    variant   = v.children[0].value.split('_')[0].split('+')\n",
    "    variant.pop()\n",
    "    variant   = '+'.join(variant) + '_' + v.children[0].value.split('_')[1]\n",
    "    filename  = os.path.join(\n",
    "        artifacts_path, \n",
    "        \"parallel\", \n",
    "        timestamp,\n",
    "        commit_id,\n",
    "        variant\n",
    "        )\n",
    "    return filename"
   ]
  },
  {
   "cell_type": "code",
   "execution_count": 34,
   "metadata": {},
   "outputs": [
    {
     "data": {
      "application/vnd.jupyter.widget-view+json": {
       "model_id": "5f92099f6971405992008639c810a251",
       "version_major": 2,
       "version_minor": 0
      },
      "text/plain": [
       "interactive(children=(IntText(value=2, description='Comparisons'), Output()), _dom_classes=('widget-interact',…"
      ]
     },
     "metadata": {},
     "output_type": "display_data"
    }
   ],
   "source": [
    "comparisons = interactive(f, x=widgets.IntText(value=2, \n",
    "                                               description='Comparisons', \n",
    "                                               disabled=False))\n",
    "display(comparisons)"
   ]
  },
  {
   "cell_type": "code",
   "execution_count": 35,
   "metadata": {},
   "outputs": [
    {
     "name": "stdout",
     "output_type": "stream",
     "text": [
      "2\n"
     ]
    }
   ],
   "source": [
    "print(comparisons.result)"
   ]
  },
  {
   "cell_type": "code",
   "execution_count": 36,
   "metadata": {},
   "outputs": [
    {
     "ename": "KeyError",
     "evalue": "None",
     "output_type": "error",
     "traceback": [
      "\u001b[0;31m---------------------------------------------------------------------------\u001b[0m",
      "\u001b[0;31mKeyError\u001b[0m                                  Traceback (most recent call last)",
      "\u001b[0;32m<ipython-input-36-4ca81c292e98>\u001b[0m in \u001b[0;36m<module>\u001b[0;34m\u001b[0m\n\u001b[1;32m      2\u001b[0m \u001b[0;34m\u001b[0m\u001b[0m\n\u001b[1;32m      3\u001b[0m \u001b[0;32mfor\u001b[0m \u001b[0mi\u001b[0m \u001b[0;32min\u001b[0m \u001b[0mrange\u001b[0m\u001b[0;34m(\u001b[0m\u001b[0mcomparisons\u001b[0m\u001b[0;34m.\u001b[0m\u001b[0mresult\u001b[0m\u001b[0;34m)\u001b[0m\u001b[0;34m:\u001b[0m\u001b[0;34m\u001b[0m\u001b[0;34m\u001b[0m\u001b[0m\n\u001b[0;32m----> 4\u001b[0;31m     \u001b[0mmatrix\u001b[0m\u001b[0;34m[\u001b[0m\u001b[0mi\u001b[0m\u001b[0;34m]\u001b[0m\u001b[0;34m[\u001b[0m\u001b[0;36m0\u001b[0m\u001b[0;34m]\u001b[0m\u001b[0;34m,\u001b[0m \u001b[0mmatrix\u001b[0m\u001b[0;34m[\u001b[0m\u001b[0mi\u001b[0m\u001b[0;34m]\u001b[0m\u001b[0;34m[\u001b[0m\u001b[0;36m1\u001b[0m\u001b[0;34m]\u001b[0m \u001b[0;34m=\u001b[0m \u001b[0mdisp\u001b[0m\u001b[0;34m(\u001b[0m\u001b[0mbenches\u001b[0m\u001b[0;34m)\u001b[0m\u001b[0;34m\u001b[0m\u001b[0;34m\u001b[0m\u001b[0m\n\u001b[0m",
      "\u001b[0;32m<ipython-input-33-0c50402c9824>\u001b[0m in \u001b[0;36mdisp\u001b[0;34m(benches)\u001b[0m\n\u001b[1;32m     13\u001b[0m     \u001b[0mtimestampD\u001b[0m \u001b[0;34m=\u001b[0m \u001b[0mwidgets\u001b[0m\u001b[0;34m.\u001b[0m\u001b[0minteractive\u001b[0m\u001b[0;34m(\u001b[0m\u001b[0mselect_commit\u001b[0m\u001b[0;34m,\u001b[0m \u001b[0mtimestamp\u001b[0m\u001b[0;34m=\u001b[0m\u001b[0mtimestampW\u001b[0m\u001b[0;34m)\u001b[0m\u001b[0;34m\u001b[0m\u001b[0;34m\u001b[0m\u001b[0m\n\u001b[1;32m     14\u001b[0m \u001b[0;34m\u001b[0m\u001b[0m\n\u001b[0;32m---> 15\u001b[0;31m     \u001b[0mvariantW\u001b[0m \u001b[0;34m=\u001b[0m \u001b[0mwidgets\u001b[0m\u001b[0;34m.\u001b[0m\u001b[0mDropdown\u001b[0m\u001b[0;34m(\u001b[0m\u001b[0moptions\u001b[0m\u001b[0;34m=\u001b[0m\u001b[0mbenches\u001b[0m\u001b[0;34m[\u001b[0m\u001b[0mtimestampW\u001b[0m\u001b[0;34m.\u001b[0m\u001b[0mvalue\u001b[0m\u001b[0;34m]\u001b[0m\u001b[0;34m,\u001b[0m \u001b[0mdescription\u001b[0m\u001b[0;34m=\u001b[0m\u001b[0;34m'Variant'\u001b[0m\u001b[0;34m,\u001b[0m \u001b[0mdisabled\u001b[0m\u001b[0;34m=\u001b[0m\u001b[0;32mFalse\u001b[0m\u001b[0;34m)\u001b[0m\u001b[0;34m\u001b[0m\u001b[0;34m\u001b[0m\u001b[0m\n\u001b[0m\u001b[1;32m     16\u001b[0m     \u001b[0mvariantD\u001b[0m \u001b[0;34m=\u001b[0m \u001b[0mwidgets\u001b[0m\u001b[0;34m.\u001b[0m\u001b[0minteractive\u001b[0m\u001b[0;34m(\u001b[0m\u001b[0mdo_nothing\u001b[0m\u001b[0;34m,\u001b[0m \u001b[0mvariant\u001b[0m\u001b[0;34m=\u001b[0m\u001b[0mvariantW\u001b[0m\u001b[0;34m)\u001b[0m\u001b[0;34m\u001b[0m\u001b[0;34m\u001b[0m\u001b[0m\n\u001b[1;32m     17\u001b[0m \u001b[0;34m\u001b[0m\u001b[0m\n",
      "\u001b[0;31mKeyError\u001b[0m: None"
     ]
    }
   ],
   "source": [
    "matrix = [[0 for x in range(3)] for y in range(comparisons.result)]  \n",
    "    \n",
    "for i in range(comparisons.result):\n",
    "    matrix[i][0], matrix[i][1] = disp(benches)"
   ]
  },
  {
   "cell_type": "code",
   "execution_count": null,
   "metadata": {},
   "outputs": [],
   "source": [
    "for i in range(comparisons.result):\n",
    "    matrix[i][2] = get_filename(matrix[i][0], matrix[i][1])"
   ]
  },
  {
   "cell_type": "code",
   "execution_count": null,
   "metadata": {},
   "outputs": [],
   "source": [
    "selected_files = []\n",
    "for i in range (comparisons.result):\n",
    "    selected_files.append(matrix[i][2])"
   ]
  },
  {
   "cell_type": "code",
   "execution_count": null,
   "metadata": {
    "scrolled": false
   },
   "outputs": [],
   "source": [
    "data_frames = []\n",
    "\n",
    "for file in selected_files:\n",
    "    with open(file) as f:\n",
    "        data = []\n",
    "        for l in f:\n",
    "            data.append(json.loads(l))\n",
    "        df = pd.json_normalize(data)\n",
    "        value   = file.split('/parallel/')[1]\n",
    "        date    = value.split('/')[0].split('_')[0]\n",
    "        commit  = value.split('/')[1][:7]\n",
    "        variant = value.split('/')[2].split('_')[0]\n",
    "        df['variant'] = date + '_' + commit + '_' + variant\n",
    "        df['name'] = df['name'].apply(lambda x : x.replace(\".orunchrt\", \"\"))\n",
    "        data_frames.append(df)\n",
    "\n",
    "df = pd.concat (data_frames, sort=False)\n",
    "df = df.sort_values(['name','time_secs']) \n",
    "# Uncomment the following to display all the lines in pandas output\n",
    "# pd.set_option('display.max_rows', df.shape[0]+1)"
   ]
  },
  {
   "cell_type": "code",
   "execution_count": null,
   "metadata": {
    "scrolled": false
   },
   "outputs": [],
   "source": [
    "def getFastestSequential(df,topic):\n",
    "    fastest_sequential = {}\n",
    "    for g in df.groupby(['name']):\n",
    "        (n,d) = g\n",
    "        fastest_sequential[n] = min(list(d[topic]))\n",
    "    return fastest_sequential\n",
    "\n",
    "def normalize(sdf, mdf, topic):\n",
    "    frames = []\n",
    "    fastest_sequential = getFastestSequential(sdf, topic)\n",
    "    for g in mdf.groupby('name'):        \n",
    "        (n,d) = g\n",
    "        n = n.replace('_multicore','')\n",
    "        d['n'+topic] = 1 / d[topic].div(fastest_sequential[n],axis=0)\n",
    "        d['b'+topic] = int(fastest_sequential[n])\n",
    "        frames.append(d)\n",
    "    return pd.concat(frames)\n",
    "\n",
    "\n",
    "# Sequential runs\n",
    "sdf = df.loc[~df['name'].str.contains('multicore',regex=False),:]\n",
    "throughput_sdf = pd.DataFrame.copy(sdf)\n",
    "\n",
    "# Multicore runs\n",
    "mdf = df.loc[df['name'].str.contains('multicore',regex=False),:]\n",
    "mdf['num_domains'] = mdf['name'].str.split('.',expand=True)[1].str.split('_',expand=True)[0]\n",
    "mdf['num_domains'] = pd.to_numeric(mdf['num_domains'])\n",
    "mdf['name'] = mdf['name'].replace('\\..*?_','.',regex=True)\n",
    "\n",
    "mdf = normalize(sdf,mdf,\"time_secs\")\n",
    "throughput_mdf = pd.DataFrame.copy(mdf)\n",
    "# mdf.sort_values(['name','variant','num_domains'])"
   ]
  },
  {
   "cell_type": "code",
   "execution_count": null,
   "metadata": {},
   "outputs": [],
   "source": [
    "mdf = mdf.sort_values(['name'])\n",
    "sns.relplot(x='num_domains', y = 'time_secs', hue='variant', col='name',\n",
    "            data=mdf, kind='line', style='variant', markers=True, col_wrap = 3, \n",
    "            lw=3, palette=\"muted\")"
   ]
  },
  {
   "cell_type": "code",
   "execution_count": null,
   "metadata": {},
   "outputs": [],
   "source": [
    "mdf = mdf.sort_values(['name'])\n",
    "with sns.plotting_context(rc={\"font.size\":14,\"axes.titlesize\":14,\"axes.labelsize\":14,\n",
    "                              \"legend.fontsize\":14}):\n",
    "    sns.relplot(x='num_domains', y = 'ntime_secs', hue='variant', col='name',\n",
    "                data=mdf, kind='line', style='variant', markers=True, col_wrap = 5, \n",
    "                lw=3)\n"
   ]
  },
  {
   "cell_type": "code",
   "execution_count": null,
   "metadata": {
    "scrolled": true
   },
   "outputs": [],
   "source": []
  },
  {
   "cell_type": "code",
   "execution_count": null,
   "metadata": {},
   "outputs": [],
   "source": []
  }
 ],
 "metadata": {
  "kernelspec": {
   "display_name": "Python 3",
   "language": "python",
   "name": "python3"
  },
  "language_info": {
   "codemirror_mode": {
    "name": "ipython",
    "version": 3
   },
   "file_extension": ".py",
   "mimetype": "text/x-python",
   "name": "python",
   "nbconvert_exporter": "python",
   "pygments_lexer": "ipython3",
   "version": "3.8.6"
  }
 },
 "nbformat": 4,
 "nbformat_minor": 4
}
