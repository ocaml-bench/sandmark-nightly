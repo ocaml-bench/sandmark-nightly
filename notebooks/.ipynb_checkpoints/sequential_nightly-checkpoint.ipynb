{
 "cells": [
  {
   "cell_type": "code",
   "execution_count": 68,
   "metadata": {},
   "outputs": [],
   "source": [
    "from __future__ import print_function\n",
    "from ipywidgets import interact, interactive, fixed, interact_manual\n",
    "from IPython.display import display\n",
    "from ipywidgets import Layout, Button, Box\n",
    "from nested_dict import nested_dict\n",
    "import ipywidgets as widgets\n",
    "from collections import defaultdict\n",
    "\n",
    "import json\n",
    "import os, glob\n",
    "import pandas as pd\n",
    "import pandas.io.json as pdjson\n",
    "import seaborn as sns\n",
    "\n",
    "sns.set(style=\"whitegrid\")"
   ]
  },
  {
   "cell_type": "code",
   "execution_count": 69,
   "metadata": {},
   "outputs": [],
   "source": [
    "artifacts_dir = \"/etc/skel/sandmark-nightly/sequential/\""
   ]
  },
  {
   "cell_type": "code",
   "execution_count": 70,
   "metadata": {},
   "outputs": [],
   "source": [
    "bench_files = []\n",
    "\n",
    "artifacts_path = artifacts_dir.split(\"/sequential/\")[0]\n",
    "\n",
    "for root, dirs, files in os.walk(artifacts_dir):\n",
    "    for file in files:\n",
    "        if file.endswith(\"_1.orun.summary.bench\"):\n",
    "            f = root.split(\"/sequential/\")\n",
    "            bench_files.append((os.path.join(root, file)))"
   ]
  },
  {
   "cell_type": "code",
   "execution_count": 71,
   "metadata": {},
   "outputs": [],
   "source": [
    "benches = defaultdict(list)\n",
    "for x in bench_files:\n",
    "    l = x.split(\"/sequential/\")[1]\n",
    "    d = l.split(\"/\")\n",
    "    timestamp    = d[0]\n",
    "    commit       = d[1]\n",
    "    variant      = d[2]\n",
    "    variant_root = d[2].split('_')[0]\n",
    "    variant_stem = d[2].split('_')[1]\n",
    "    value        = variant_root + '+' + commit + '_' + variant_stem\n",
    "    benches[timestamp].append(value)\n",
    "benches = dict(benches)"
   ]
  },
  {
   "cell_type": "code",
   "execution_count": 72,
   "metadata": {},
   "outputs": [],
   "source": [
    "def f(x): return x\n",
    "\n",
    "def disp(benches):\n",
    "    \n",
    "    def select_commit(timestamp):\n",
    "        variantW.options = benches[timestamp]\n",
    "    \n",
    "    def do_nothing(variant):\n",
    "        pass\n",
    "    \n",
    "    timestamp_list = sorted(list(benches.keys()), reverse=True)\n",
    "    timestampW = widgets.Dropdown(options=timestamp_list, description='Timestamp', disabled=False)\n",
    "    timestampD = widgets.interactive(select_commit, timestamp=timestampW)\n",
    "    \n",
    "    variantW = widgets.Dropdown(options=benches[timestampW.value], description='Variant', disabled=False)\n",
    "    variantD = widgets.interactive(do_nothing, variant=variantW)\n",
    "\n",
    "    items_layout = Layout( width='auto' )\n",
    "    \n",
    "    box_layout = Layout(display='flex',\n",
    "                       flex_flow='row wrap',\n",
    "                       align_items='flex-start',\n",
    "                       width='100%')\n",
    "    items = [timestampD, variantD]\n",
    "    box = Box(children=items, layout=box_layout)\n",
    "    display(box)\n",
    "    return (timestampD, variantD)\n",
    "\n",
    "def get_filename(t, v):\n",
    "    timestamp = t.children[0].value\n",
    "    commit_id = v.children[0].value.split('_')[0].split('+')[-1]\n",
    "    variant   = v.children[0].value.split('_')[0].split('+')\n",
    "    variant.pop()\n",
    "    variant   = '+'.join(variant) + '_' + v.children[0].value.split('_')[1]\n",
    "    filename  = os.path.join(\n",
    "        artifacts_path, \n",
    "        \"sequential\", \n",
    "        timestamp,\n",
    "        commit_id,\n",
    "        variant\n",
    "        )\n",
    "    return filename"
   ]
  },
  {
   "cell_type": "code",
   "execution_count": 73,
   "metadata": {},
   "outputs": [
    {
     "data": {
      "application/vnd.jupyter.widget-view+json": {
       "model_id": "b908110dd9f046bda83ac2539133a93c",
       "version_major": 2,
       "version_minor": 0
      },
      "text/plain": [
       "interactive(children=(IntText(value=2, description='Comparisons'), Output()), _dom_classes=('widget-interact',…"
      ]
     },
     "metadata": {},
     "output_type": "display_data"
    }
   ],
   "source": [
    "comparisons = interactive(f, x=widgets.IntText(value=2, \n",
    "                                               description='Comparisons', \n",
    "                                               disabled=False))\n",
    "display(comparisons)"
   ]
  },
  {
   "cell_type": "code",
   "execution_count": 74,
   "metadata": {},
   "outputs": [
    {
     "name": "stdout",
     "output_type": "stream",
     "text": [
      "2\n"
     ]
    }
   ],
   "source": [
    "print(comparisons.result)"
   ]
  },
  {
   "cell_type": "code",
   "execution_count": 75,
   "metadata": {},
   "outputs": [
    {
     "ename": "KeyError",
     "evalue": "None",
     "output_type": "error",
     "traceback": [
      "\u001b[0;31m---------------------------------------------------------------------------\u001b[0m",
      "\u001b[0;31mKeyError\u001b[0m                                  Traceback (most recent call last)",
      "\u001b[0;32m<ipython-input-75-4ca81c292e98>\u001b[0m in \u001b[0;36m<module>\u001b[0;34m\u001b[0m\n\u001b[1;32m      2\u001b[0m \u001b[0;34m\u001b[0m\u001b[0m\n\u001b[1;32m      3\u001b[0m \u001b[0;32mfor\u001b[0m \u001b[0mi\u001b[0m \u001b[0;32min\u001b[0m \u001b[0mrange\u001b[0m\u001b[0;34m(\u001b[0m\u001b[0mcomparisons\u001b[0m\u001b[0;34m.\u001b[0m\u001b[0mresult\u001b[0m\u001b[0;34m)\u001b[0m\u001b[0;34m:\u001b[0m\u001b[0;34m\u001b[0m\u001b[0;34m\u001b[0m\u001b[0m\n\u001b[0;32m----> 4\u001b[0;31m     \u001b[0mmatrix\u001b[0m\u001b[0;34m[\u001b[0m\u001b[0mi\u001b[0m\u001b[0;34m]\u001b[0m\u001b[0;34m[\u001b[0m\u001b[0;36m0\u001b[0m\u001b[0;34m]\u001b[0m\u001b[0;34m,\u001b[0m \u001b[0mmatrix\u001b[0m\u001b[0;34m[\u001b[0m\u001b[0mi\u001b[0m\u001b[0;34m]\u001b[0m\u001b[0;34m[\u001b[0m\u001b[0;36m1\u001b[0m\u001b[0;34m]\u001b[0m \u001b[0;34m=\u001b[0m \u001b[0mdisp\u001b[0m\u001b[0;34m(\u001b[0m\u001b[0mbenches\u001b[0m\u001b[0;34m)\u001b[0m\u001b[0;34m\u001b[0m\u001b[0;34m\u001b[0m\u001b[0m\n\u001b[0m",
      "\u001b[0;32m<ipython-input-72-18f4121e5533>\u001b[0m in \u001b[0;36mdisp\u001b[0;34m(benches)\u001b[0m\n\u001b[1;32m     13\u001b[0m     \u001b[0mtimestampD\u001b[0m \u001b[0;34m=\u001b[0m \u001b[0mwidgets\u001b[0m\u001b[0;34m.\u001b[0m\u001b[0minteractive\u001b[0m\u001b[0;34m(\u001b[0m\u001b[0mselect_commit\u001b[0m\u001b[0;34m,\u001b[0m \u001b[0mtimestamp\u001b[0m\u001b[0;34m=\u001b[0m\u001b[0mtimestampW\u001b[0m\u001b[0;34m)\u001b[0m\u001b[0;34m\u001b[0m\u001b[0;34m\u001b[0m\u001b[0m\n\u001b[1;32m     14\u001b[0m \u001b[0;34m\u001b[0m\u001b[0m\n\u001b[0;32m---> 15\u001b[0;31m     \u001b[0mvariantW\u001b[0m \u001b[0;34m=\u001b[0m \u001b[0mwidgets\u001b[0m\u001b[0;34m.\u001b[0m\u001b[0mDropdown\u001b[0m\u001b[0;34m(\u001b[0m\u001b[0moptions\u001b[0m\u001b[0;34m=\u001b[0m\u001b[0mbenches\u001b[0m\u001b[0;34m[\u001b[0m\u001b[0mtimestampW\u001b[0m\u001b[0;34m.\u001b[0m\u001b[0mvalue\u001b[0m\u001b[0;34m]\u001b[0m\u001b[0;34m,\u001b[0m \u001b[0mdescription\u001b[0m\u001b[0;34m=\u001b[0m\u001b[0;34m'Variant'\u001b[0m\u001b[0;34m,\u001b[0m \u001b[0mdisabled\u001b[0m\u001b[0;34m=\u001b[0m\u001b[0;32mFalse\u001b[0m\u001b[0;34m)\u001b[0m\u001b[0;34m\u001b[0m\u001b[0;34m\u001b[0m\u001b[0m\n\u001b[0m\u001b[1;32m     16\u001b[0m     \u001b[0mvariantD\u001b[0m \u001b[0;34m=\u001b[0m \u001b[0mwidgets\u001b[0m\u001b[0;34m.\u001b[0m\u001b[0minteractive\u001b[0m\u001b[0;34m(\u001b[0m\u001b[0mdo_nothing\u001b[0m\u001b[0;34m,\u001b[0m \u001b[0mvariant\u001b[0m\u001b[0;34m=\u001b[0m\u001b[0mvariantW\u001b[0m\u001b[0;34m)\u001b[0m\u001b[0;34m\u001b[0m\u001b[0;34m\u001b[0m\u001b[0m\n\u001b[1;32m     17\u001b[0m \u001b[0;34m\u001b[0m\u001b[0m\n",
      "\u001b[0;31mKeyError\u001b[0m: None"
     ]
    }
   ],
   "source": [
    "matrix = [[0 for x in range(3)] for y in range(comparisons.result)]  \n",
    "    \n",
    "for i in range(comparisons.result):\n",
    "    matrix[i][0], matrix[i][1] = disp(benches)"
   ]
  },
  {
   "cell_type": "code",
   "execution_count": null,
   "metadata": {},
   "outputs": [],
   "source": [
    "for i in range(comparisons.result):\n",
    "    matrix[i][2] = get_filename(matrix[i][0], matrix[i][1])"
   ]
  },
  {
   "cell_type": "code",
   "execution_count": null,
   "metadata": {},
   "outputs": [],
   "source": [
    "selected_files = []\n",
    "for i in range (comparisons.result):\n",
    "    selected_files.append(matrix[i][2])"
   ]
  },
  {
   "cell_type": "code",
   "execution_count": null,
   "metadata": {},
   "outputs": [],
   "source": [
    "data_frames = []\n",
    "\n",
    "for file in selected_files:\n",
    "    with open(file) as f:\n",
    "        data = []\n",
    "        for l in f:\n",
    "            data.append(json.loads(l))\n",
    "        df = pdjson.json_normalize(data)\n",
    "        value     = file.split('/sequential/')[1]\n",
    "        date      = value.split('/')[0].split('_')[0]\n",
    "        commit_id = value.split('/')[1][:7]\n",
    "        variant   = value.split('/')[2].split('_')[0]\n",
    "        df[\"variant\"] = variant + '_' + date + '_' + commit_id\n",
    "        data_frames.append(df)\n",
    "\n",
    "df = pd.concat (data_frames, sort=False)\n",
    "df = df.sort_values(['name']) \n",
    "# Uncomment the following to display all the lines in pandas output\n",
    "# pd.set_option('display.max_rows', df.shape[0]+1)"
   ]
  },
  {
   "cell_type": "code",
   "execution_count": null,
   "metadata": {},
   "outputs": [],
   "source": [
    "df = df[(df.name != 'alt-ergo.fill.why') &         #multicore version does not exist\n",
    "        (df.name != 'alt-ergo.yyll.why') &         #multicore version does not exist\n",
    "        (df.name != 'frama-c.slevel') &            #multicore version does not exist\n",
    "        (df.name != 'js_of_ocaml.frama-c_byte')]   #multicore version does not exist\n",
    "throughput_df = df"
   ]
  },
  {
   "cell_type": "code",
   "execution_count": null,
   "metadata": {},
   "outputs": [],
   "source": [
    "baseline_t, baseline_v = disp(benches)"
   ]
  },
  {
   "cell_type": "code",
   "execution_count": null,
   "metadata": {},
   "outputs": [],
   "source": [
    "selected_baseline = \"\"\n",
    "date      = baseline_t.children[0].value.split('_')[0]\n",
    "commit_id = baseline_v.children[0].value.split('_')[0].split('+')[-1][:7]\n",
    "variant   = baseline_v.children[0].value.split('_')[0].split('+')\n",
    "variant.pop()\n",
    "variant   = \"+\".join(variant)\n",
    "value     = variant + '_' + date + '_' + commit_id\n",
    "selected_baseline = value\n",
    "\n",
    "print(selected_baseline)"
   ]
  },
  {
   "cell_type": "markdown",
   "metadata": {},
   "source": [
    "## Time"
   ]
  },
  {
   "cell_type": "code",
   "execution_count": null,
   "metadata": {},
   "outputs": [],
   "source": [
    "g = sns.catplot (x='name', y='time_secs', hue='variant', data = df, kind ='bar', aspect=4)\n",
    "g.set_xticklabels(rotation=90)"
   ]
  },
  {
   "cell_type": "markdown",
   "metadata": {},
   "source": [
    "### Normalized"
   ]
  },
  {
   "cell_type": "code",
   "execution_count": null,
   "metadata": {},
   "outputs": [],
   "source": [
    "def create_column(df, variant, metric):\n",
    "    df = pd.DataFrame.copy(df)\n",
    "    variant_metric_name = list([ zip(df[metric], df[x], df['name'])\n",
    "            for x in df.columns.array if x == \"variant\" ][0])\n",
    "    name_metric = {n:t for (t, v, n) in variant_metric_name if v == variant}\n",
    "    return name_metric\n",
    "\n",
    "def add_display_name(df,variant, metric):\n",
    "    name_metric = create_column(pd.DataFrame.copy(df), variant, metric)\n",
    "    disp_name = [name+\" (\"+str(round(name_metric[name], 2))+\")\" for name in df[\"name\"]]\n",
    "    df[\"display_name\"] = pd.Series(disp_name, index=df.index)\n",
    "    return df\n",
    "\n",
    "def normalise(df,variant,topic,additionalTopics=[]):\n",
    "    df = add_display_name(df,variant,topic)\n",
    "    df = df.sort_values([\"name\",\"variant\"])\n",
    "    grouped = df.filter(items=['name',topic,'variant','display_name']+additionalTopics).groupby('variant')\n",
    "    ndata_frames = []\n",
    "    for group in grouped:\n",
    "        (v,data) = group\n",
    "        if(v != variant):\n",
    "            data['b'+topic] = grouped.get_group(variant)[topic].values\n",
    "            data[['n'+topic]] = data[[topic]].div(grouped.get_group(variant)[topic].values, axis=0)\n",
    "            for t in additionalTopics:\n",
    "                data[[t]] = grouped.get_group(variant)[t].values\n",
    "            ndata_frames.append(data)\n",
    "            df = pd.concat(ndata_frames)\n",
    "            return df\n",
    "        else:\n",
    "            print(\"The selected baseline variant is equal to the other variants\\n\" \n",
    "                  + \"Update the dropdowns with different varians to plot normalisation graphs\\n\")\n",
    "            return None\n",
    "\n",
    "def plot_normalised(df,variant,topic):\n",
    "    if df is not None:\n",
    "        df = pd.DataFrame.copy(df)\n",
    "        df.sort_values(by=[topic],inplace=True)\n",
    "        df[topic] = df[topic] - 1\n",
    "        g = sns.catplot (x=\"display_name\", y=topic, hue='variant', data = df, kind ='bar', aspect=4, bottom=1)\n",
    "        g.set_xticklabels(rotation=90)\n",
    "        g.ax.legend(loc=8)\n",
    "        g._legend.remove()\n",
    "        g.ax.set_xlabel(\"Benchmarks\")\n",
    "        return g\n",
    "        # g.ax.set_yscale('log')\n",
    "    else:\n",
    "        print(\"ndf is equal to None, possibly due to variants being equal to the baseline variant\\n\")"
   ]
  },
  {
   "cell_type": "code",
   "execution_count": null,
   "metadata": {},
   "outputs": [],
   "source": [
    "ndf = normalise(df, selected_baseline,'time_secs')\n",
    "plot_normalised(ndf, selected_baseline,'ntime_secs')"
   ]
  },
  {
   "cell_type": "markdown",
   "metadata": {},
   "source": [
    "## Top heap words"
   ]
  },
  {
   "cell_type": "code",
   "execution_count": null,
   "metadata": {},
   "outputs": [],
   "source": [
    "g = sns.catplot (x='name', y='gc.top_heap_words', hue='variant', data = df, kind ='bar', aspect=4)\n",
    "g.set_xticklabels(rotation=90)"
   ]
  },
  {
   "cell_type": "markdown",
   "metadata": {},
   "source": [
    "### Normalised"
   ]
  },
  {
   "cell_type": "code",
   "execution_count": null,
   "metadata": {},
   "outputs": [],
   "source": [
    "ndf = normalise(df,selected_baseline,'gc.top_heap_words')\n",
    "plot_normalised(ndf,selected_baseline,'ngc.top_heap_words')"
   ]
  },
  {
   "cell_type": "markdown",
   "metadata": {},
   "source": [
    "## Max RSS (KB)"
   ]
  },
  {
   "cell_type": "code",
   "execution_count": null,
   "metadata": {},
   "outputs": [],
   "source": [
    "g = sns.catplot (x='name', y='maxrss_kB', hue='variant', data = df, kind ='bar', aspect=4)\n",
    "g.set_xticklabels(rotation=90)"
   ]
  },
  {
   "cell_type": "markdown",
   "metadata": {},
   "source": [
    "### Normalised"
   ]
  },
  {
   "cell_type": "code",
   "execution_count": null,
   "metadata": {},
   "outputs": [],
   "source": [
    "ndf = normalise(df,selected_baseline,'maxrss_kB')\n",
    "plot_normalised(ndf,selected_baseline,'nmaxrss_kB')"
   ]
  },
  {
   "cell_type": "markdown",
   "metadata": {},
   "source": [
    "## Major Collections"
   ]
  },
  {
   "cell_type": "code",
   "execution_count": null,
   "metadata": {},
   "outputs": [],
   "source": [
    "g = sns.catplot (x='name', y='gc.major_collections', hue='variant', data = df, kind ='bar', aspect=4)\n",
    "g.set_xticklabels(rotation=90)"
   ]
  },
  {
   "cell_type": "markdown",
   "metadata": {},
   "source": [
    "### Normalised"
   ]
  },
  {
   "cell_type": "code",
   "execution_count": null,
   "metadata": {},
   "outputs": [],
   "source": [
    "ndf = normalise(df,selected_baseline,'gc.major_collections')\n",
    "plot_normalised(ndf,selected_baseline,'ngc.major_collections')\n",
    "ndf"
   ]
  },
  {
   "cell_type": "markdown",
   "metadata": {},
   "source": [
    "## Major words"
   ]
  },
  {
   "cell_type": "code",
   "execution_count": null,
   "metadata": {},
   "outputs": [],
   "source": [
    "g = sns.catplot (x='name', y='gc.major_words', hue='variant', data = df, kind ='bar', aspect=4)\n",
    "g.set_xticklabels(rotation=90)"
   ]
  },
  {
   "cell_type": "markdown",
   "metadata": {},
   "source": [
    "### Normalised"
   ]
  },
  {
   "cell_type": "code",
   "execution_count": null,
   "metadata": {},
   "outputs": [],
   "source": [
    "ndf = normalise(df,selected_baseline,'gc.major_words')\n",
    "plot_normalised(ndf,selected_baseline,'ngc.major_words')"
   ]
  },
  {
   "cell_type": "markdown",
   "metadata": {},
   "source": [
    "## Minor Collections"
   ]
  },
  {
   "cell_type": "code",
   "execution_count": null,
   "metadata": {},
   "outputs": [],
   "source": [
    "g = sns.catplot (x='name', y='gc.minor_collections', hue='variant', data = df, kind ='bar', aspect=4)\n",
    "g.set_xticklabels(rotation=90)"
   ]
  },
  {
   "cell_type": "markdown",
   "metadata": {},
   "source": [
    "### Normalised"
   ]
  },
  {
   "cell_type": "code",
   "execution_count": null,
   "metadata": {},
   "outputs": [],
   "source": [
    "ndf = normalise(df,selected_baseline,'gc.minor_collections')\n",
    "plot_normalised(ndf,selected_baseline,'ngc.minor_collections')"
   ]
  },
  {
   "cell_type": "code",
   "execution_count": null,
   "metadata": {},
   "outputs": [],
   "source": []
  }
 ],
 "metadata": {
  "kernelspec": {
   "display_name": "Python 3",
   "language": "python",
   "name": "python3"
  },
  "language_info": {
   "codemirror_mode": {
    "name": "ipython",
    "version": 3
   },
   "file_extension": ".py",
   "mimetype": "text/x-python",
   "name": "python",
   "nbconvert_exporter": "python",
   "pygments_lexer": "ipython3",
   "version": "3.8.6"
  }
 },
 "nbformat": 4,
 "nbformat_minor": 4
}
