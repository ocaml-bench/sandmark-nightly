{
 "cells": [
  {
   "cell_type": "code",
   "execution_count": 186,
   "metadata": {},
   "outputs": [],
   "source": [
    "from __future__ import print_function\n",
    "from ipywidgets import interact, interactive, fixed, interact_manual\n",
    "from IPython.display import display\n",
    "from ipywidgets import Layout, Button, Box\n",
    "from nested_dict import nested_dict\n",
    "import ipywidgets as widgets\n",
    "from collections import defaultdict\n",
    "\n",
    "import json\n",
    "import os, glob\n",
    "import pandas as pd\n",
    "import pandas.io.json as pdjson\n",
    "import seaborn as sns\n",
    "\n",
    "sns.set(style=\"whitegrid\")"
   ]
  },
  {
   "cell_type": "code",
   "execution_count": 187,
   "metadata": {},
   "outputs": [],
   "source": [
    "artifacts_dir = \"/etc/skel/sandmark-nightly/sequential/\""
   ]
  },
  {
   "cell_type": "code",
   "execution_count": 188,
   "metadata": {},
   "outputs": [
    {
     "name": "stdout",
     "output_type": "stream",
     "text": [
      "/home/sk/sandmark-nightly\n",
      "['/home/sk/sandmark-nightly/sequential/20210608_084403/7e6b22b232146f9177cbfa874b3fcc66ceed192b/4.12.0+stock_1.orun.summary.bench', '/home/sk/sandmark-nightly/sequential/20210608_084403/06d5aa0bf63778de509a7eee129bb5f31508466f/4.12.0+domains+effects_1.orun.summary.bench', '/home/sk/sandmark-nightly/sequential/20210608_101103/7e6b22b232146f9177cbfa874b3fcc66ceed192b/4.12.0+stock_1.orun.summary.bench', '/home/sk/sandmark-nightly/sequential/20210608_101103/06d5aa0bf63778de509a7eee129bb5f31508466f/4.12.0+domains+effects+rename_1.orun.summary.bench']\n"
     ]
    }
   ],
   "source": [
    "bench_files = []\n",
    "\n",
    "artifacts_path = artifacts_dir.split(\"/sequential/\")[0]\n",
    "print(artifacts_path)\n",
    "\n",
    "for root, dirs, files in os.walk(artifacts_dir):\n",
    "#     print(dirs)\n",
    "    for file in files:\n",
    "#         print(file)\n",
    "        if file.endswith(\"_1.orun.summary.bench\"):\n",
    "            # print(root)\n",
    "            f = root.split(\"/sequential/\")\n",
    "#             print(f)\n",
    "            bench_files.append((os.path.join(root, file)))\n",
    "\n",
    "print(bench_files)"
   ]
  },
  {
   "cell_type": "code",
   "execution_count": 189,
   "metadata": {},
   "outputs": [
    {
     "name": "stdout",
     "output_type": "stream",
     "text": [
      "/home/sk/sandmark-nightly/sequential/20210608_084403/7e6b22b232146f9177cbfa874b3fcc66ceed192b/4.12.0+stock_1.orun.summary.bench\n",
      "\n",
      "/home/sk/sandmark-nightly/sequential/20210608_084403/06d5aa0bf63778de509a7eee129bb5f31508466f/4.12.0+domains+effects_1.orun.summary.bench\n",
      "\n",
      "/home/sk/sandmark-nightly/sequential/20210608_101103/7e6b22b232146f9177cbfa874b3fcc66ceed192b/4.12.0+stock_1.orun.summary.bench\n",
      "\n",
      "/home/sk/sandmark-nightly/sequential/20210608_101103/06d5aa0bf63778de509a7eee129bb5f31508466f/4.12.0+domains+effects+rename_1.orun.summary.bench\n",
      "\n"
     ]
    }
   ],
   "source": [
    "# len(bench_files)\n",
    "for b in bench_files :\n",
    "    print(b + '\\n')"
   ]
  },
  {
   "cell_type": "code",
   "execution_count": 190,
   "metadata": {},
   "outputs": [
    {
     "name": "stdout",
     "output_type": "stream",
     "text": [
      "20210608_084403/7e6b22b232146f9177cbfa874b3fcc66ceed192b/4.12.0+stock_1.orun.summary.bench\n",
      "20210608_084403/06d5aa0bf63778de509a7eee129bb5f31508466f/4.12.0+domains+effects_1.orun.summary.bench\n",
      "20210608_101103/7e6b22b232146f9177cbfa874b3fcc66ceed192b/4.12.0+stock_1.orun.summary.bench\n",
      "20210608_101103/06d5aa0bf63778de509a7eee129bb5f31508466f/4.12.0+domains+effects+rename_1.orun.summary.bench\n"
     ]
    }
   ],
   "source": [
    "benches = defaultdict(list)\n",
    "for x in bench_files:\n",
    "#     print(x)\n",
    "    l = x.split(\"/sequential/\")[1]\n",
    "    print(l)\n",
    "    d = l.split(\"/\")\n",
    "#     print(d)\n",
    "    timestamp    = d[0]\n",
    "    commit       = d[1]\n",
    "    variant      = d[2]\n",
    "    variant      = d[2].split('_')[0]\n",
    "    variant_stem = d[2].split('_')[1]\n",
    "    value        = variant + '+' + commit + '_' + variant_stem\n",
    "    benches[timestamp].append(value)\n",
    "benches = dict(benches)"
   ]
  },
  {
   "cell_type": "code",
   "execution_count": 191,
   "metadata": {},
   "outputs": [
    {
     "data": {
      "text/plain": [
       "{'20210608_084403': ['4.12.0+stock+7e6b22b232146f9177cbfa874b3fcc66ceed192b_1.orun.summary.bench',\n",
       "  '4.12.0+domains+effects+06d5aa0bf63778de509a7eee129bb5f31508466f_1.orun.summary.bench'],\n",
       " '20210608_101103': ['4.12.0+stock+7e6b22b232146f9177cbfa874b3fcc66ceed192b_1.orun.summary.bench',\n",
       "  '4.12.0+domains+effects+rename+06d5aa0bf63778de509a7eee129bb5f31508466f_1.orun.summary.bench']}"
      ]
     },
     "execution_count": 191,
     "metadata": {},
     "output_type": "execute_result"
    }
   ],
   "source": [
    "benches"
   ]
  },
  {
   "cell_type": "code",
   "execution_count": 202,
   "metadata": {},
   "outputs": [],
   "source": [
    "def f(x): return x\n",
    "\n",
    "def disp(benches):\n",
    "    \n",
    "    def select_commit(timestamp):\n",
    "        variantW.options = benches[timestamp]\n",
    "    \n",
    "    def do_nothing(variant):\n",
    "        pass\n",
    "    \n",
    "    timestampW = widgets.Dropdown(options=benches.keys(), description='Timestamp', disabled=False)\n",
    "    timestampD = widgets.interactive(select_commit, timestamp=timestampW)\n",
    "    \n",
    "    variantW = widgets.Dropdown(options=benches[timestampW.value], description='Variant', disabled=False)\n",
    "    variantD = widgets.interactive(do_nothing, variant=variantW)\n",
    "\n",
    "    items_layout = Layout( width='auto' )\n",
    "    \n",
    "    box_layout = Layout(display='flex',\n",
    "                       flex_flow='row wrap',\n",
    "                       align_items='flex-start',\n",
    "                       #border='solid',\n",
    "                       width='100%')\n",
    "    items = [timestampD, variantD]\n",
    "    box = Box(children=items, layout=box_layout)\n",
    "#     print(box)\n",
    "    display(box)\n",
    "    return (timestampD, variantD)\n",
    "\n",
    "def get_filename(t, v):\n",
    "    timestamp = t.children[0].value\n",
    "    commit_id = v.children[0].value.split('_')[0].split('+')[-1]\n",
    "    variant   = v.children[0].value.split('_')[0].split('+')\n",
    "    variant.pop()\n",
    "    variant   = '+'.join(variant) + '_' + v.children[0].value.split('_')[1]\n",
    "    filename  = os.path.join(\n",
    "        artifacts_path, \n",
    "        \"sequential\", \n",
    "        timestamp,\n",
    "        commit_id,\n",
    "        variant\n",
    "        )\n",
    "    print(filename)\n",
    "    return filename"
   ]
  },
  {
   "cell_type": "code",
   "execution_count": 203,
   "metadata": {},
   "outputs": [
    {
     "data": {
      "application/vnd.jupyter.widget-view+json": {
       "model_id": "1a7a6e49268541698111ab3365b6a94a",
       "version_major": 2,
       "version_minor": 0
      },
      "text/plain": [
       "interactive(children=(IntText(value=2, description='Comparisons'), Output()), _dom_classes=('widget-interact',…"
      ]
     },
     "metadata": {},
     "output_type": "display_data"
    }
   ],
   "source": [
    "comparisons = interactive(f, x=widgets.IntText(value=2, \n",
    "                                               description='Comparisons', \n",
    "                                               disabled=False))\n",
    "display(comparisons)"
   ]
  },
  {
   "cell_type": "code",
   "execution_count": 204,
   "metadata": {},
   "outputs": [
    {
     "name": "stdout",
     "output_type": "stream",
     "text": [
      "2\n"
     ]
    }
   ],
   "source": [
    "print(comparisons.result)"
   ]
  },
  {
   "cell_type": "code",
   "execution_count": 205,
   "metadata": {},
   "outputs": [
    {
     "data": {
      "application/vnd.jupyter.widget-view+json": {
       "model_id": "4682970835964032bcbd6aa2d4bb2bb0",
       "version_major": 2,
       "version_minor": 0
      },
      "text/plain": [
       "Box(children=(interactive(children=(Dropdown(description='Timestamp', options=('20210608_084403', '20210608_10…"
      ]
     },
     "metadata": {},
     "output_type": "display_data"
    },
    {
     "data": {
      "application/vnd.jupyter.widget-view+json": {
       "model_id": "9c3e72cc1ab0472c8faaee281bdda82a",
       "version_major": 2,
       "version_minor": 0
      },
      "text/plain": [
       "Box(children=(interactive(children=(Dropdown(description='Timestamp', options=('20210608_084403', '20210608_10…"
      ]
     },
     "metadata": {},
     "output_type": "display_data"
    }
   ],
   "source": [
    "matrix = [[0 for x in range(3)] for y in range(comparisons.result)]  \n",
    "    \n",
    "for i in range(comparisons.result):\n",
    "    matrix[i][0], matrix[i][1] = disp(benches)"
   ]
  },
  {
   "cell_type": "code",
   "execution_count": 217,
   "metadata": {},
   "outputs": [
    {
     "name": "stdout",
     "output_type": "stream",
     "text": [
      "/home/sk/sandmark-nightly/sequential/20210608_084403/06d5aa0bf63778de509a7eee129bb5f31508466f/4.12.0+domains+effects_1.orun.summary.bench\n",
      "/home/sk/sandmark-nightly/sequential/20210608_084403/7e6b22b232146f9177cbfa874b3fcc66ceed192b/4.12.0+stock_1.orun.summary.bench\n"
     ]
    }
   ],
   "source": [
    "for i in range(comparisons.result):\n",
    "    matrix[i][2] = get_filename(matrix[i][0], matrix[i][1])\n",
    "\n",
    "# print(matrix[0][2])\n",
    "# print(matrix[1][2])"
   ]
  },
  {
   "cell_type": "code",
   "execution_count": 218,
   "metadata": {},
   "outputs": [
    {
     "name": "stdout",
     "output_type": "stream",
     "text": [
      "/home/sk/sandmark-nightly/sequential/20210608_084403/06d5aa0bf63778de509a7eee129bb5f31508466f/4.12.0+domains+effects_1.orun.summary.bench\n",
      "/home/sk/sandmark-nightly/sequential/20210608_084403/7e6b22b232146f9177cbfa874b3fcc66ceed192b/4.12.0+stock_1.orun.summary.bench\n"
     ]
    }
   ],
   "source": [
    "selected_files = []\n",
    "for i in range (comparisons.result):\n",
    "    print(matrix[i][2])\n",
    "    selected_files.append(matrix[i][2])\n",
    "\n",
    "# print(selected_files)"
   ]
  },
  {
   "cell_type": "code",
   "execution_count": 219,
   "metadata": {},
   "outputs": [
    {
     "name": "stdout",
     "output_type": "stream",
     "text": [
      "/home/sk/sandmark-nightly/sequential/20210608_084403/06d5aa0bf63778de509a7eee129bb5f31508466f/4.12.0+domains+effects_1.orun.summary.bench\n",
      "/home/sk/sandmark-nightly/sequential/20210608_084403/7e6b22b232146f9177cbfa874b3fcc66ceed192b/4.12.0+stock_1.orun.summary.bench\n"
     ]
    },
    {
     "name": "stderr",
     "output_type": "stream",
     "text": [
      "<ipython-input-219-a2b7779f0768>:9: FutureWarning: pandas.io.json.json_normalize is deprecated, use pandas.json_normalize instead\n",
      "  df = pdjson.json_normalize(data)\n"
     ]
    },
    {
     "data": {
      "text/html": [
       "<div>\n",
       "<style scoped>\n",
       "    .dataframe tbody tr th:only-of-type {\n",
       "        vertical-align: middle;\n",
       "    }\n",
       "\n",
       "    .dataframe tbody tr th {\n",
       "        vertical-align: top;\n",
       "    }\n",
       "\n",
       "    .dataframe thead th {\n",
       "        text-align: right;\n",
       "    }\n",
       "</style>\n",
       "<table border=\"1\" class=\"dataframe\">\n",
       "  <thead>\n",
       "    <tr style=\"text-align: right;\">\n",
       "      <th></th>\n",
       "      <th>name</th>\n",
       "      <th>command</th>\n",
       "      <th>time_secs</th>\n",
       "      <th>user_time_secs</th>\n",
       "      <th>sys_time_secs</th>\n",
       "      <th>maxrss_kB</th>\n",
       "      <th>codesize</th>\n",
       "      <th>ocaml_url</th>\n",
       "      <th>ocaml.version</th>\n",
       "      <th>ocaml.c_compiler</th>\n",
       "      <th>...</th>\n",
       "      <th>gc.major_words</th>\n",
       "      <th>gc.minor_collections</th>\n",
       "      <th>gc.major_collections</th>\n",
       "      <th>gc.forced_major_collections</th>\n",
       "      <th>gc.heap_words</th>\n",
       "      <th>gc.top_heap_words</th>\n",
       "      <th>gc.mean_space_overhead</th>\n",
       "      <th>variant</th>\n",
       "      <th>gc.heap_chunks</th>\n",
       "      <th>gc.compactions</th>\n",
       "    </tr>\n",
       "  </thead>\n",
       "  <tbody>\n",
       "    <tr>\n",
       "      <th>0</th>\n",
       "      <td>qr-decomposition.</td>\n",
       "      <td>taskset --cpu-list 5 ./qr_decomposition.exe</td>\n",
       "      <td>2.012069</td>\n",
       "      <td>2.007775</td>\n",
       "      <td>0.003999</td>\n",
       "      <td>8208</td>\n",
       "      <td>222641.0</td>\n",
       "      <td>https://github.com/ocaml-multicore/ocaml-multi...</td>\n",
       "      <td>4.12.0+multicore</td>\n",
       "      <td>gcc</td>\n",
       "      <td>...</td>\n",
       "      <td>2683132</td>\n",
       "      <td>6559</td>\n",
       "      <td>31</td>\n",
       "      <td>0</td>\n",
       "      <td>301342</td>\n",
       "      <td>376602</td>\n",
       "      <td>67.315433</td>\n",
       "      <td>20210608_06d5aa0_4.12.0+domains+effects</td>\n",
       "      <td>NaN</td>\n",
       "      <td>NaN</td>\n",
       "    </tr>\n",
       "    <tr>\n",
       "      <th>0</th>\n",
       "      <td>qr-decomposition.</td>\n",
       "      <td>taskset --cpu-list 5 ./qr_decomposition.exe</td>\n",
       "      <td>1.942993</td>\n",
       "      <td>1.942703</td>\n",
       "      <td>0.000000</td>\n",
       "      <td>6588</td>\n",
       "      <td>188644.0</td>\n",
       "      <td>https://github.com/ocaml/ocaml/archive/4.12.0....</td>\n",
       "      <td>4.12.0</td>\n",
       "      <td>gcc</td>\n",
       "      <td>...</td>\n",
       "      <td>2696154</td>\n",
       "      <td>6559</td>\n",
       "      <td>61</td>\n",
       "      <td>0</td>\n",
       "      <td>188416</td>\n",
       "      <td>188416</td>\n",
       "      <td>NaN</td>\n",
       "      <td>20210608_7e6b22b_4.12.0+stock</td>\n",
       "      <td>2.0</td>\n",
       "      <td>0.0</td>\n",
       "    </tr>\n",
       "  </tbody>\n",
       "</table>\n",
       "<p>2 rows × 29 columns</p>\n",
       "</div>"
      ],
      "text/plain": [
       "                name                                      command  time_secs  \\\n",
       "0  qr-decomposition.  taskset --cpu-list 5 ./qr_decomposition.exe   2.012069   \n",
       "0  qr-decomposition.  taskset --cpu-list 5 ./qr_decomposition.exe   1.942993   \n",
       "\n",
       "   user_time_secs  sys_time_secs  maxrss_kB  codesize  \\\n",
       "0        2.007775       0.003999       8208  222641.0   \n",
       "0        1.942703       0.000000       6588  188644.0   \n",
       "\n",
       "                                           ocaml_url     ocaml.version  \\\n",
       "0  https://github.com/ocaml-multicore/ocaml-multi...  4.12.0+multicore   \n",
       "0  https://github.com/ocaml/ocaml/archive/4.12.0....            4.12.0   \n",
       "\n",
       "  ocaml.c_compiler  ... gc.major_words gc.minor_collections  \\\n",
       "0              gcc  ...        2683132                 6559   \n",
       "0              gcc  ...        2696154                 6559   \n",
       "\n",
       "  gc.major_collections gc.forced_major_collections gc.heap_words  \\\n",
       "0                   31                           0        301342   \n",
       "0                   61                           0        188416   \n",
       "\n",
       "  gc.top_heap_words  gc.mean_space_overhead  \\\n",
       "0            376602               67.315433   \n",
       "0            188416                     NaN   \n",
       "\n",
       "                                   variant  gc.heap_chunks  gc.compactions  \n",
       "0  20210608_06d5aa0_4.12.0+domains+effects             NaN             NaN  \n",
       "0            20210608_7e6b22b_4.12.0+stock             2.0             0.0  \n",
       "\n",
       "[2 rows x 29 columns]"
      ]
     },
     "execution_count": 219,
     "metadata": {},
     "output_type": "execute_result"
    }
   ],
   "source": [
    "data_frames = []\n",
    "\n",
    "for file in selected_files:\n",
    "    print(file)\n",
    "    with open(file) as f:\n",
    "        data = []\n",
    "        for l in f:\n",
    "            data.append(json.loads(l))\n",
    "        df = pdjson.json_normalize(data)\n",
    "        value = file.split('/sequential/')[1]\n",
    "        value = value.split('/')\n",
    "        value = value[0].split('_')[0] + '_' + value[1][:7] + '_' + value[2].replace(\"_1.orun.summary.bench\",\"\")\n",
    "#         print(value)\n",
    "        df[\"variant\"] = value\n",
    "        data_frames.append(df)\n",
    "\n",
    "df = pd.concat (data_frames, sort=False)\n",
    "df = df.sort_values(['name']) \n",
    "# Uncomment the following to display all the lines in pandas output\n",
    "pd.set_option('display.max_rows', df.shape[0]+1)\n",
    "df"
   ]
  },
  {
   "cell_type": "code",
   "execution_count": 220,
   "metadata": {},
   "outputs": [
    {
     "data": {
      "text/html": [
       "<div>\n",
       "<style scoped>\n",
       "    .dataframe tbody tr th:only-of-type {\n",
       "        vertical-align: middle;\n",
       "    }\n",
       "\n",
       "    .dataframe tbody tr th {\n",
       "        vertical-align: top;\n",
       "    }\n",
       "\n",
       "    .dataframe thead th {\n",
       "        text-align: right;\n",
       "    }\n",
       "</style>\n",
       "<table border=\"1\" class=\"dataframe\">\n",
       "  <thead>\n",
       "    <tr style=\"text-align: right;\">\n",
       "      <th></th>\n",
       "      <th>name</th>\n",
       "      <th>command</th>\n",
       "      <th>time_secs</th>\n",
       "      <th>user_time_secs</th>\n",
       "      <th>sys_time_secs</th>\n",
       "      <th>maxrss_kB</th>\n",
       "      <th>codesize</th>\n",
       "      <th>ocaml_url</th>\n",
       "      <th>ocaml.version</th>\n",
       "      <th>ocaml.c_compiler</th>\n",
       "      <th>...</th>\n",
       "      <th>gc.major_words</th>\n",
       "      <th>gc.minor_collections</th>\n",
       "      <th>gc.major_collections</th>\n",
       "      <th>gc.forced_major_collections</th>\n",
       "      <th>gc.heap_words</th>\n",
       "      <th>gc.top_heap_words</th>\n",
       "      <th>gc.mean_space_overhead</th>\n",
       "      <th>variant</th>\n",
       "      <th>gc.heap_chunks</th>\n",
       "      <th>gc.compactions</th>\n",
       "    </tr>\n",
       "  </thead>\n",
       "  <tbody>\n",
       "    <tr>\n",
       "      <th>0</th>\n",
       "      <td>qr-decomposition.</td>\n",
       "      <td>taskset --cpu-list 5 ./qr_decomposition.exe</td>\n",
       "      <td>2.012069</td>\n",
       "      <td>2.007775</td>\n",
       "      <td>0.003999</td>\n",
       "      <td>8208</td>\n",
       "      <td>222641.0</td>\n",
       "      <td>https://github.com/ocaml-multicore/ocaml-multi...</td>\n",
       "      <td>4.12.0+multicore</td>\n",
       "      <td>gcc</td>\n",
       "      <td>...</td>\n",
       "      <td>2683132</td>\n",
       "      <td>6559</td>\n",
       "      <td>31</td>\n",
       "      <td>0</td>\n",
       "      <td>301342</td>\n",
       "      <td>376602</td>\n",
       "      <td>67.315433</td>\n",
       "      <td>20210608_06d5aa0_4.12.0+domains+effects</td>\n",
       "      <td>NaN</td>\n",
       "      <td>NaN</td>\n",
       "    </tr>\n",
       "    <tr>\n",
       "      <th>0</th>\n",
       "      <td>qr-decomposition.</td>\n",
       "      <td>taskset --cpu-list 5 ./qr_decomposition.exe</td>\n",
       "      <td>1.942993</td>\n",
       "      <td>1.942703</td>\n",
       "      <td>0.000000</td>\n",
       "      <td>6588</td>\n",
       "      <td>188644.0</td>\n",
       "      <td>https://github.com/ocaml/ocaml/archive/4.12.0....</td>\n",
       "      <td>4.12.0</td>\n",
       "      <td>gcc</td>\n",
       "      <td>...</td>\n",
       "      <td>2696154</td>\n",
       "      <td>6559</td>\n",
       "      <td>61</td>\n",
       "      <td>0</td>\n",
       "      <td>188416</td>\n",
       "      <td>188416</td>\n",
       "      <td>NaN</td>\n",
       "      <td>20210608_7e6b22b_4.12.0+stock</td>\n",
       "      <td>2.0</td>\n",
       "      <td>0.0</td>\n",
       "    </tr>\n",
       "  </tbody>\n",
       "</table>\n",
       "<p>2 rows × 29 columns</p>\n",
       "</div>"
      ],
      "text/plain": [
       "                name                                      command  time_secs  \\\n",
       "0  qr-decomposition.  taskset --cpu-list 5 ./qr_decomposition.exe   2.012069   \n",
       "0  qr-decomposition.  taskset --cpu-list 5 ./qr_decomposition.exe   1.942993   \n",
       "\n",
       "   user_time_secs  sys_time_secs  maxrss_kB  codesize  \\\n",
       "0        2.007775       0.003999       8208  222641.0   \n",
       "0        1.942703       0.000000       6588  188644.0   \n",
       "\n",
       "                                           ocaml_url     ocaml.version  \\\n",
       "0  https://github.com/ocaml-multicore/ocaml-multi...  4.12.0+multicore   \n",
       "0  https://github.com/ocaml/ocaml/archive/4.12.0....            4.12.0   \n",
       "\n",
       "  ocaml.c_compiler  ... gc.major_words gc.minor_collections  \\\n",
       "0              gcc  ...        2683132                 6559   \n",
       "0              gcc  ...        2696154                 6559   \n",
       "\n",
       "  gc.major_collections gc.forced_major_collections gc.heap_words  \\\n",
       "0                   31                           0        301342   \n",
       "0                   61                           0        188416   \n",
       "\n",
       "  gc.top_heap_words  gc.mean_space_overhead  \\\n",
       "0            376602               67.315433   \n",
       "0            188416                     NaN   \n",
       "\n",
       "                                   variant  gc.heap_chunks  gc.compactions  \n",
       "0  20210608_06d5aa0_4.12.0+domains+effects             NaN             NaN  \n",
       "0            20210608_7e6b22b_4.12.0+stock             2.0             0.0  \n",
       "\n",
       "[2 rows x 29 columns]"
      ]
     },
     "execution_count": 220,
     "metadata": {},
     "output_type": "execute_result"
    }
   ],
   "source": [
    "df = df[(df.name != 'alt-ergo.fill.why') &         #multicore version does not exist\n",
    "        (df.name != 'alt-ergo.yyll.why') &         #multicore version does not exist\n",
    "        (df.name != 'frama-c.slevel') &            #multicore version does not exist\n",
    "        (df.name != 'js_of_ocaml.frama-c_byte')]   #multicore version does not exist\n",
    "throughput_df = df\n",
    "df"
   ]
  },
  {
   "cell_type": "code",
   "execution_count": 221,
   "metadata": {},
   "outputs": [
    {
     "data": {
      "application/vnd.jupyter.widget-view+json": {
       "model_id": "5f2aacbfbe464cde81a8a588949090dd",
       "version_major": 2,
       "version_minor": 0
      },
      "text/plain": [
       "Box(children=(interactive(children=(Dropdown(description='Timestamp', options=('20210608_084403', '20210608_10…"
      ]
     },
     "metadata": {},
     "output_type": "display_data"
    }
   ],
   "source": [
    "baseline_t, baseline_v = disp(benches)"
   ]
  },
  {
   "cell_type": "code",
   "execution_count": 222,
   "metadata": {},
   "outputs": [
    {
     "name": "stdout",
     "output_type": "stream",
     "text": [
      "20210608_7e6b22b_4.12.0+stock\n"
     ]
    }
   ],
   "source": [
    "selected_baseline = \"\"\n",
    "date      = baseline_t.children[0].value.split('_')[0]\n",
    "commit_id = baseline_v.children[0].value.split('_')[0].split('+')[-1][:7]\n",
    "variant   = baseline_v.children[0].value.split('_')[0].split('+')\n",
    "variant.pop()\n",
    "variant   = \"+\".join(variant)\n",
    "value     = date + '_' + commit_id + '_' + variant \n",
    "selected_baseline = value\n",
    "\n",
    "print(selected_baseline)"
   ]
  },
  {
   "cell_type": "code",
   "execution_count": 223,
   "metadata": {},
   "outputs": [
    {
     "data": {
      "text/html": [
       "<div>\n",
       "<style scoped>\n",
       "    .dataframe tbody tr th:only-of-type {\n",
       "        vertical-align: middle;\n",
       "    }\n",
       "\n",
       "    .dataframe tbody tr th {\n",
       "        vertical-align: top;\n",
       "    }\n",
       "\n",
       "    .dataframe thead th {\n",
       "        text-align: right;\n",
       "    }\n",
       "</style>\n",
       "<table border=\"1\" class=\"dataframe\">\n",
       "  <thead>\n",
       "    <tr style=\"text-align: right;\">\n",
       "      <th></th>\n",
       "      <th>name</th>\n",
       "      <th>command</th>\n",
       "      <th>time_secs</th>\n",
       "      <th>user_time_secs</th>\n",
       "      <th>sys_time_secs</th>\n",
       "      <th>maxrss_kB</th>\n",
       "      <th>codesize</th>\n",
       "      <th>ocaml_url</th>\n",
       "      <th>ocaml.version</th>\n",
       "      <th>ocaml.c_compiler</th>\n",
       "      <th>...</th>\n",
       "      <th>gc.major_words</th>\n",
       "      <th>gc.minor_collections</th>\n",
       "      <th>gc.major_collections</th>\n",
       "      <th>gc.forced_major_collections</th>\n",
       "      <th>gc.heap_words</th>\n",
       "      <th>gc.top_heap_words</th>\n",
       "      <th>gc.mean_space_overhead</th>\n",
       "      <th>variant</th>\n",
       "      <th>gc.heap_chunks</th>\n",
       "      <th>gc.compactions</th>\n",
       "    </tr>\n",
       "  </thead>\n",
       "  <tbody>\n",
       "  </tbody>\n",
       "</table>\n",
       "<p>0 rows × 29 columns</p>\n",
       "</div>"
      ],
      "text/plain": [
       "Empty DataFrame\n",
       "Columns: [name, command, time_secs, user_time_secs, sys_time_secs, maxrss_kB, codesize, ocaml_url, ocaml.version, ocaml.c_compiler, ocaml.architecture, ocaml.word_size, ocaml.system, ocaml.function_sections, ocaml.supports_shared_libraries, ocaml.linear_magic_number, gc.allocated_words, gc.minor_words, gc.promoted_words, gc.major_words, gc.minor_collections, gc.major_collections, gc.forced_major_collections, gc.heap_words, gc.top_heap_words, gc.mean_space_overhead, variant, gc.heap_chunks, gc.compactions]\n",
       "Index: []\n",
       "\n",
       "[0 rows x 29 columns]"
      ]
     },
     "execution_count": 223,
     "metadata": {},
     "output_type": "execute_result"
    }
   ],
   "source": [
    "df.loc[(df['variant'] == selected_baseline) & (df['time_secs'] > 10)]"
   ]
  },
  {
   "cell_type": "code",
   "execution_count": 224,
   "metadata": {},
   "outputs": [
    {
     "data": {
      "text/html": [
       "<div>\n",
       "<style scoped>\n",
       "    .dataframe tbody tr th:only-of-type {\n",
       "        vertical-align: middle;\n",
       "    }\n",
       "\n",
       "    .dataframe tbody tr th {\n",
       "        vertical-align: top;\n",
       "    }\n",
       "\n",
       "    .dataframe thead th {\n",
       "        text-align: right;\n",
       "    }\n",
       "</style>\n",
       "<table border=\"1\" class=\"dataframe\">\n",
       "  <thead>\n",
       "    <tr style=\"text-align: right;\">\n",
       "      <th></th>\n",
       "      <th>name</th>\n",
       "      <th>variant</th>\n",
       "      <th>time_secs</th>\n",
       "    </tr>\n",
       "  </thead>\n",
       "  <tbody>\n",
       "    <tr>\n",
       "      <th>0</th>\n",
       "      <td>qr-decomposition.</td>\n",
       "      <td>20210608_06d5aa0_4.12.0+domains+effects</td>\n",
       "      <td>2.012069</td>\n",
       "    </tr>\n",
       "    <tr>\n",
       "      <th>0</th>\n",
       "      <td>qr-decomposition.</td>\n",
       "      <td>20210608_7e6b22b_4.12.0+stock</td>\n",
       "      <td>1.942993</td>\n",
       "    </tr>\n",
       "  </tbody>\n",
       "</table>\n",
       "</div>"
      ],
      "text/plain": [
       "                name                                  variant  time_secs\n",
       "0  qr-decomposition.  20210608_06d5aa0_4.12.0+domains+effects   2.012069\n",
       "0  qr-decomposition.            20210608_7e6b22b_4.12.0+stock   1.942993"
      ]
     },
     "execution_count": 224,
     "metadata": {},
     "output_type": "execute_result"
    }
   ],
   "source": [
    "df.filter(['name','variant','time_secs'])\n",
    "# print(len(df))"
   ]
  },
  {
   "cell_type": "markdown",
   "metadata": {},
   "source": [
    "## Time"
   ]
  },
  {
   "cell_type": "code",
   "execution_count": 225,
   "metadata": {},
   "outputs": [
    {
     "data": {
      "text/plain": [
       "<seaborn.axisgrid.FacetGrid at 0x7f56f2689070>"
      ]
     },
     "execution_count": 225,
     "metadata": {},
     "output_type": "execute_result"
    },
    {
     "data": {
      "image/png": "[encoded data removed]",
      "text/plain": [
       "<Figure size 1732.6x360 with 1 Axes>"
      ]
     },
     "metadata": {},
     "output_type": "display_data"
    }
   ],
   "source": [
    "g = sns.catplot (x='name', y='time_secs', hue='variant', data = df, kind ='bar', aspect=4)\n",
    "g.set_xticklabels(rotation=90)"
   ]
  },
  {
   "cell_type": "markdown",
   "metadata": {},
   "source": [
    "### Normalized"
   ]
  },
  {
   "cell_type": "code",
   "execution_count": 226,
   "metadata": {},
   "outputs": [],
   "source": [
    "# returns a dictionary with {key = name : value : metric}\n",
    "# the metric corresponds to the variant\n",
    "def create_column(df, variant, metric):\n",
    "    df = pd.DataFrame.copy(df)\n",
    "#     print(df['variant'])\n",
    "    variant_metric_name = list([ zip(df[metric], df[x], df['name'])\n",
    "            for x in df.columns.array if x == \"variant\" ][0])\n",
    "    name_metric = {n:t for (t, v, n) in variant_metric_name if v == variant}\n",
    "#     print(name_metric)\n",
    "    return name_metric\n",
    "\n",
    "def add_display_name(df,variant, metric):\n",
    "    name_metric = create_column(pd.DataFrame.copy(df), variant, metric)\n",
    "#     print(name_metric)\n",
    "    disp_name = [name+\" (\"+str(round(name_metric[name], 2))+\")\" for name in df[\"name\"]]\n",
    "    df[\"display_name\"] = pd.Series(disp_name, index=df.index)\n",
    "#     print(df)\n",
    "    return df\n",
    "\n",
    "def normalise(df,variant,topic,additionalTopics=[]):\n",
    "    df = add_display_name(df,variant,topic)\n",
    "    df = df.sort_values([\"name\",\"variant\"])\n",
    "#     print(df)\n",
    "    grouped = df.filter(items=['name',topic,'variant','display_name']+additionalTopics).groupby('variant')\n",
    "    ndata_frames = []\n",
    "    for group in grouped:\n",
    "#         print(group)\n",
    "        (v,data) = group\n",
    "#         print(len(data[topic]))\n",
    "        if(v != variant):\n",
    "            data['b'+topic] = grouped.get_group(variant)[topic].values\n",
    "            data[['n'+topic]] = data[[topic]].div(grouped.get_group(variant)[topic].values, axis=0)\n",
    "            for t in additionalTopics:\n",
    "#                 print(variant, t)\n",
    "                data[[t]] = grouped.get_group(variant)[t].values\n",
    "            ndata_frames.append(data)\n",
    "    df = pd.concat (ndata_frames)\n",
    "    return df\n",
    "\n",
    "def plot_normalised(df,variant,topic):\n",
    "    df = pd.DataFrame.copy(df)\n",
    "    df.sort_values(by=[topic],inplace=True)\n",
    "    df[topic] = df[topic] - 1\n",
    "    g = sns.catplot (x=\"display_name\", y=topic, hue='variant', data = df, kind ='bar', aspect=4, bottom=1)\n",
    "    g.set_xticklabels(rotation=90)\n",
    "    g.ax.legend(loc=8)\n",
    "    g._legend.remove()\n",
    "    g.ax.set_xlabel(\"Benchmarks\")\n",
    "    return g\n",
    "    # g.ax.set_yscale('log')"
   ]
  },
  {
   "cell_type": "code",
   "execution_count": 227,
   "metadata": {},
   "outputs": [
    {
     "data": {
      "text/plain": [
       "<seaborn.axisgrid.FacetGrid at 0x7f56f26c08e0>"
      ]
     },
     "execution_count": 227,
     "metadata": {},
     "output_type": "execute_result"
    },
    {
     "data": {
      "image/png": "[encoded data removed]",
      "text/plain": [
       "<Figure size 1732.6x360 with 1 Axes>"
      ]
     },
     "metadata": {},
     "output_type": "display_data"
    }
   ],
   "source": [
    "# print(df)\n",
    "ndf = normalise(df, selected_baseline,'time_secs')\n",
    "plot_normalised(ndf, selected_baseline,'ntime_secs')"
   ]
  },
  {
   "cell_type": "code",
   "execution_count": null,
   "metadata": {},
   "outputs": [],
   "source": []
  }
 ],
 "metadata": {
  "kernelspec": {
   "display_name": "Python 3",
   "language": "python",
   "name": "python3"
  },
  "language_info": {
   "codemirror_mode": {
    "name": "ipython",
    "version": 3
   },
   "file_extension": ".py",
   "mimetype": "text/x-python",
   "name": "python",
   "nbconvert_exporter": "python",
   "pygments_lexer": "ipython3",
   "version": "3.8.6"
  }
 },
 "nbformat": 4,
 "nbformat_minor": 4
}
